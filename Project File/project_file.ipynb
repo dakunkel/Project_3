{
 "cells": [
  {
   "cell_type": "code",
   "execution_count": 23,
   "metadata": {},
   "outputs": [],
   "source": [
    "# Imports\n",
    "import os\n",
    "import requests\n",
    "from PIL import Image\n",
    "from io import BytesIO\n",
    "from dotenv import load_dotenv\n",
    "load_dotenv()\n",
    "from mnemonic import Mnemonic\n",
    "from bip44 import Wallet\n",
    "from web3 import Account"
   ]
  },
  {
   "cell_type": "code",
   "execution_count": 24,
   "metadata": {},
   "outputs": [],
   "source": [
    "#Load API Key\n",
    "ai_api_key = os.getenv(\"DEEPAI\")\n",
    "\n",
    "#Initiate Request for Image\n",
    "response = requests.post(\n",
    "    \"https://api.deepai.org/api/text2img\",\n",
    "    data={\n",
    "        'text': 'A toy that is orange',\n",
    "    },\n",
    "    headers={'api-key': ai_api_key}\n",
    ")"
   ]
  },
  {
   "cell_type": "code",
   "execution_count": 27,
   "metadata": {},
   "outputs": [
    {
     "name": "stdout",
     "output_type": "stream",
     "text": [
      "{'id': '460c32e6-8107-4031-8115-3ee02b932989', 'output_url': 'https://api.deepai.org/job-view-file/460c32e6-8107-4031-8115-3ee02b932989/outputs/output.jpg'}\n",
      "460c32e6-8107-4031-8115-3ee02b932989.jpg\n"
     ]
    }
   ],
   "source": [
    "print(response.json())\n",
    "image_name = f\"{response.json()['id']}.jpg\"\n",
    "print(image_name)"
   ]
  },
  {
   "cell_type": "code",
   "execution_count": 29,
   "metadata": {},
   "outputs": [
    {
     "name": "stdout",
     "output_type": "stream",
     "text": [
      "Image saved successfully at generated_images/460c32e6-8107-4031-8115-3ee02b932989.jpg\n"
     ]
    }
   ],
   "source": [
    "# Check if the request was successful (status code 200)\n",
    "if response.status_code == 200:\n",
    "    try:\n",
    "        # Get the JSON data from the response\n",
    "        response_json = response.json()\n",
    "\n",
    "        # Check if the response contains a link to the image\n",
    "        if 'output_url' in response_json:\n",
    "            image_url = response_json['output_url']\n",
    "\n",
    "            # Download the image from the URL\n",
    "            image_response = requests.get(image_url)\n",
    "            image_bytes = BytesIO(image_response.content)\n",
    "\n",
    "            # Create a folder if it doesn't exist\n",
    "            folder_path = \"generated_images\"\n",
    "            os.makedirs(folder_path, exist_ok=True)\n",
    "\n",
    "            # Open and save the image to the folder\n",
    "            image = Image.open(image_bytes)\n",
    "            image_path = os.path.join(folder_path, image_name)\n",
    "            image.save(image_path)\n",
    "\n",
    "            print(f\"Image saved successfully at {image_path}\")\n",
    "        else:\n",
    "            print(\"Error: The API response does not contain a link to the generated image.\")\n",
    "    except Exception as e:\n",
    "        print(f\"Error processing the API response: {e}\")\n",
    "else:\n",
    "    print(f\"Error: {response.status_code} - {response.text}\")"
   ]
  },
  {
   "cell_type": "code",
   "execution_count": 16,
   "metadata": {},
   "outputs": [
    {
     "ename": "AttributeError",
     "evalue": "'str' object has no attribute 'content'",
     "output_type": "error",
     "traceback": [
      "\u001b[0;31m---------------------------------------------------------------------------\u001b[0m",
      "\u001b[0;31mAttributeError\u001b[0m                            Traceback (most recent call last)",
      "\u001b[1;32m/Users/Dane/Desktop/FinTech Bootcamp/GitHub Project/Project 3/Project_3/Project File/project_file.ipynb Cell 5\u001b[0m line \u001b[0;36m4\n\u001b[1;32m      <a href='vscode-notebook-cell:/Users/Dane/Desktop/FinTech%20Bootcamp/GitHub%20Project/Project%203/Project_3/Project%20File/project_file.ipynb#X16sZmlsZQ%3D%3D?line=0'>1</a>\u001b[0m \u001b[39m#image_data = r.json()['output_url']\u001b[39;00m\n\u001b[1;32m      <a href='vscode-notebook-cell:/Users/Dane/Desktop/FinTech%20Bootcamp/GitHub%20Project/Project%203/Project_3/Project%20File/project_file.ipynb#X16sZmlsZQ%3D%3D?line=1'>2</a>\u001b[0m \u001b[39m#image_bytes = BytesIO(image_data.encode('utf-8'))\u001b[39;00m\n\u001b[1;32m      <a href='vscode-notebook-cell:/Users/Dane/Desktop/FinTech%20Bootcamp/GitHub%20Project/Project%203/Project_3/Project%20File/project_file.ipynb#X16sZmlsZQ%3D%3D?line=2'>3</a>\u001b[0m response \u001b[39m=\u001b[39m r\u001b[39m.\u001b[39mjson()\n\u001b[0;32m----> <a href='vscode-notebook-cell:/Users/Dane/Desktop/FinTech%20Bootcamp/GitHub%20Project/Project%203/Project_3/Project%20File/project_file.ipynb#X16sZmlsZQ%3D%3D?line=3'>4</a>\u001b[0m image_url \u001b[39m=\u001b[39m response[\u001b[39m'\u001b[39;49m\u001b[39moutput_url\u001b[39;49m\u001b[39m'\u001b[39;49m]\u001b[39m.\u001b[39;49mcontent\n\u001b[1;32m      <a href='vscode-notebook-cell:/Users/Dane/Desktop/FinTech%20Bootcamp/GitHub%20Project/Project%203/Project_3/Project%20File/project_file.ipynb#X16sZmlsZQ%3D%3D?line=4'>5</a>\u001b[0m image_bytes \u001b[39m=\u001b[39m BytesIO(image_url)\n\u001b[1;32m      <a href='vscode-notebook-cell:/Users/Dane/Desktop/FinTech%20Bootcamp/GitHub%20Project/Project%203/Project_3/Project%20File/project_file.ipynb#X16sZmlsZQ%3D%3D?line=6'>7</a>\u001b[0m image \u001b[39m=\u001b[39m Image\u001b[39m.\u001b[39mopen(image_bytes)\n",
      "\u001b[0;31mAttributeError\u001b[0m: 'str' object has no attribute 'content'"
     ]
    }
   ],
   "source": [
    "#image_data = r.json()['output_url']\n",
    "#image_bytes = BytesIO(image_data.encode('utf-8'))\n",
    "response = r.json()\n",
    "image_url = response['output_url']\n",
    "image_bytes = BytesIO(image_url)\n",
    "\n",
    "image = Image.open(image_bytes)\n",
    "image.save(r.json()['id'])"
   ]
  },
  {
   "cell_type": "code",
   "execution_count": 2,
   "metadata": {},
   "outputs": [
    {
     "data": {
      "text/plain": [
       "'because book sadness fluid hunt shell hospital distance ill fence pass sister'"
      ]
     },
     "metadata": {},
     "output_type": "display_data"
    }
   ],
   "source": [
    "# Load the value of the MNEMONIC variable from the .env file\n",
    "mnemonic = os.getenv(\"MNEMONIC\")\n",
    "\n",
    "# Evaluate the contents of the mnemonic variable\n",
    "# Create a new mnemonic seed phrase if the value of mnemonic equals None\n",
    "if mnemonic is None:\n",
    "  mnemo = Mnemonic(\"english\")   \n",
    "  mnemonic = mnemo.generate(strength=128)\n",
    "\n",
    "# Display the value of the mnemonic variable\n",
    "display(mnemonic)"
   ]
  },
  {
   "cell_type": "code",
   "execution_count": 3,
   "metadata": {},
   "outputs": [
    {
     "data": {
      "text/plain": [
       "<bip44.wallet.Wallet at 0x7f8f7ea5d850>"
      ]
     },
     "execution_count": 3,
     "metadata": {},
     "output_type": "execute_result"
    }
   ],
   "source": [
    "wallet = Wallet(mnemonic)\n",
    "wallet"
   ]
  },
  {
   "cell_type": "code",
   "execution_count": 4,
   "metadata": {},
   "outputs": [
    {
     "data": {
      "text/plain": [
       "b'\\xdb\\xa1fF\\x04yH`(c\\x98\\x13\\xe0\\x84\\xdd\\x1b|\\xadq\\xadn[hM\\x157\\x9fH\\x8d\\x05\\xb0\\xac'"
      ]
     },
     "execution_count": 4,
     "metadata": {},
     "output_type": "execute_result"
    }
   ],
   "source": [
    "# Create the public and private keys associated with a new Ethereum account\n",
    "private, public = wallet.derive_account(\"eth\")\n",
    "\n",
    "# Display the private key\n",
    "private"
   ]
  },
  {
   "cell_type": "code",
   "execution_count": 5,
   "metadata": {},
   "outputs": [],
   "source": [
    "account = Account.privateKeyToAccount(private)"
   ]
  },
  {
   "cell_type": "code",
   "execution_count": 8,
   "metadata": {},
   "outputs": [
    {
     "data": {
      "text/plain": [
       "<eth_account.signers.local.LocalAccount at 0x7f8f7ea72990>"
      ]
     },
     "execution_count": 8,
     "metadata": {},
     "output_type": "execute_result"
    }
   ],
   "source": [
    "print(account)"
   ]
  },
  {
   "cell_type": "code",
   "execution_count": 17,
   "metadata": {},
   "outputs": [
    {
     "name": "stdout",
     "output_type": "stream",
     "text": [
      "0x4b0d14BDD1E41dAdD15B66EEB7D7c454aD19A0af\n"
     ]
    }
   ],
   "source": [
    "print(account.address)"
   ]
  },
  {
   "cell_type": "code",
   "execution_count": 2,
   "metadata": {},
   "outputs": [
    {
     "ename": "NameError",
     "evalue": "name 'account' is not defined",
     "output_type": "error",
     "traceback": [
      "\u001b[0;31m---------------------------------------------------------------------------\u001b[0m",
      "\u001b[0;31mNameError\u001b[0m                                 Traceback (most recent call last)",
      "\u001b[0;32m<ipython-input-2-915755497fc9>\u001b[0m in \u001b[0;36m<module>\u001b[0;34m\u001b[0m\n\u001b[0;32m----> 1\u001b[0;31m \u001b[0maccount\u001b[0m\u001b[0;34m.\u001b[0m\u001b[0mprivateKey\u001b[0m\u001b[0;34m\u001b[0m\u001b[0;34m\u001b[0m\u001b[0m\n\u001b[0m",
      "\u001b[0;31mNameError\u001b[0m: name 'account' is not defined"
     ]
    }
   ],
   "source": [
    "account.privateKey"
   ]
  },
  {
   "cell_type": "code",
   "execution_count": null,
   "metadata": {},
   "outputs": [],
   "source": []
  },
  {
   "cell_type": "code",
   "execution_count": null,
   "metadata": {},
   "outputs": [],
   "source": []
  },
  {
   "cell_type": "code",
   "execution_count": null,
   "metadata": {},
   "outputs": [],
   "source": []
  }
 ],
 "metadata": {
  "kernelspec": {
   "display_name": "Python 3",
   "language": "python",
   "name": "python3"
  },
  "language_info": {
   "codemirror_mode": {
    "name": "ipython",
    "version": 3
   },
   "file_extension": ".py",
   "mimetype": "text/x-python",
   "name": "python",
   "nbconvert_exporter": "python",
   "pygments_lexer": "ipython3",
   "version": "3.10.12"
  }
 },
 "nbformat": 4,
 "nbformat_minor": 4
}
